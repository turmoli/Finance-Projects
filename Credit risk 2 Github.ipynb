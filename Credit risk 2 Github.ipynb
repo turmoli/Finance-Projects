{
 "cells": [
  {
   "cell_type": "markdown",
   "id": "ff8ce5a5",
   "metadata": {},
   "source": [
    "This lesson is a follow-up to the previous one, where we created a MySQL database called LoanDefaultDB with two tables: BorrowerInfo and LoanDetails. These tables were designed to store information about borrowers and their loan details, respectively.\n",
    "\n",
    "In this project, we directly utilize the database and its tables for further analysis. Key concepts covered include:\n",
    "\n",
    "Establishing a connection to a MySQL database using Python.\n",
    "\n",
    "Querying data from SQL tables and loading it into pandas DataFrames.\n",
    "\n",
    "Integrating MySQL with pandas for efficient data manipulation and analysis.\n",
    "\n",
    "Combining mysql.connector and SQLAlchemy for database interaction.\n",
    "\n",
    "Through SQL queries and Python data analysis, the project investigates how factors such as loan type, borrower income, age, and loan length affect default rates. The goal is to provide actionable insights that could help financial institutions better understand the risk of defaults and make informed lending decisions.\n",
    "\n",
    "In addition, the project includes visualizations to highlight key trends, such as the relationship between income groups and default rates, or how loan length impacts the likelihood of default. This analysis can serve as a foundation for building predictive models or improving risk assessment frameworks in the financial sector."
   ]
  },
  {
   "cell_type": "code",
   "execution_count": 1,
   "id": "9490a9b1",
   "metadata": {},
   "outputs": [],
   "source": [
    "from sqlalchemy import create_engine\n",
    "import pandas as pd\n",
    "import mysql.connector"
   ]
  },
  {
   "cell_type": "code",
   "execution_count": 2,
   "id": "cab2437d",
   "metadata": {},
   "outputs": [],
   "source": [
    "# Define your MySQL credentials here\n",
    "mysql_user = \"root\"  # Replace with your own username\n",
    "mysql_password = \"abcdefgh\" # Replace with your own password\n",
    "mysql_host = \"localhost\"  # Replace with your server's IP if not local\n",
    "mysql_db = \"LoanDefaultDB\""
   ]
  },
  {
   "cell_type": "code",
   "execution_count": 3,
   "id": "3112f4e3",
   "metadata": {},
   "outputs": [],
   "source": [
    "# Step 1: Create MySQL connection using mysql.connector\n",
    "connection = mysql.connector.connect(\n",
    "    host=mysql_host,\n",
    "    user=mysql_user,\n",
    "    password=mysql_password,\n",
    "    database=mysql_db\n",
    ")"
   ]
  },
  {
   "cell_type": "code",
   "execution_count": 4,
   "id": "5c714bb8",
   "metadata": {},
   "outputs": [
    {
     "name": "stdout",
     "output_type": "stream",
     "text": [
      "Tables in the database:\n",
      "('BorrowerInfo',)\n",
      "('LoanDetails',)\n"
     ]
    }
   ],
   "source": [
    "# Step 2: Verify database and tables exist (optional check)\n",
    "cursor = connection.cursor()\n",
    "cursor.execute(\"SHOW TABLES;\")\n",
    "print(\"Tables in the database:\")\n",
    "for table in cursor:\n",
    "    print(table)\n"
   ]
  },
  {
   "cell_type": "code",
   "execution_count": 5,
   "id": "da5a1693",
   "metadata": {},
   "outputs": [],
   "source": [
    "# Step 3: Switch to SQLAlchemy for querying the database\n",
    "engine = create_engine(f\"mysql+mysqlconnector://{mysql_user}:{mysql_password}@{mysql_host}/{mysql_db}\")\n"
   ]
  },
  {
   "cell_type": "code",
   "execution_count": null,
   "id": "49c75c50",
   "metadata": {},
   "outputs": [],
   "source": []
  },
  {
   "cell_type": "code",
   "execution_count": 6,
   "id": "e23520d5",
   "metadata": {},
   "outputs": [
    {
     "name": "stdout",
     "output_type": "stream",
     "text": [
      "Number of loans in each loan type\n"
     ]
    },
    {
     "data": {
      "text/html": [
       "<div>\n",
       "<style scoped>\n",
       "    .dataframe tbody tr th:only-of-type {\n",
       "        vertical-align: middle;\n",
       "    }\n",
       "\n",
       "    .dataframe tbody tr th {\n",
       "        vertical-align: top;\n",
       "    }\n",
       "\n",
       "    .dataframe thead th {\n",
       "        text-align: right;\n",
       "    }\n",
       "</style>\n",
       "<table border=\"1\" class=\"dataframe\">\n",
       "  <thead>\n",
       "    <tr style=\"text-align: right;\">\n",
       "      <th></th>\n",
       "      <th>Loan_Type</th>\n",
       "      <th>number_of_loans</th>\n",
       "    </tr>\n",
       "  </thead>\n",
       "  <tbody>\n",
       "    <tr>\n",
       "      <th>0</th>\n",
       "      <td>Car</td>\n",
       "      <td>689</td>\n",
       "    </tr>\n",
       "    <tr>\n",
       "      <th>1</th>\n",
       "      <td>Home</td>\n",
       "      <td>311</td>\n",
       "    </tr>\n",
       "  </tbody>\n",
       "</table>\n",
       "</div>"
      ],
      "text/plain": [
       "  Loan_Type  number_of_loans\n",
       "0      Car               689\n",
       "1      Home              311"
      ]
     },
     "execution_count": 6,
     "metadata": {},
     "output_type": "execute_result"
    }
   ],
   "source": [
    "# Exercise: Counting Loan Types\n",
    "# Write a query to count how many loans belong to each loan type in the LoanDetails table.\n",
    "query = \"\"\"\n",
    "SELECT Loan_Type, \n",
    "COUNT(*) AS number_of_loans\n",
    "FROM LoanDetails\n",
    "GROUP BY Loan_Type;\n",
    "\"\"\"\n",
    "\n",
    "loan_type = pd.read_sql(query, con=engine)\n",
    "print(\"Number of loans in each loan type\")\n",
    "loan_type"
   ]
  },
  {
   "cell_type": "code",
   "execution_count": 7,
   "id": "9a5fdffd",
   "metadata": {},
   "outputs": [
    {
     "name": "stdout",
     "output_type": "stream",
     "text": [
      "Borrowers by income group\n"
     ]
    },
    {
     "data": {
      "text/html": [
       "<div>\n",
       "<style scoped>\n",
       "    .dataframe tbody tr th:only-of-type {\n",
       "        vertical-align: middle;\n",
       "    }\n",
       "\n",
       "    .dataframe tbody tr th {\n",
       "        vertical-align: top;\n",
       "    }\n",
       "\n",
       "    .dataframe thead th {\n",
       "        text-align: right;\n",
       "    }\n",
       "</style>\n",
       "<table border=\"1\" class=\"dataframe\">\n",
       "  <thead>\n",
       "    <tr style=\"text-align: right;\">\n",
       "      <th></th>\n",
       "      <th>income_group</th>\n",
       "      <th>number_of_borrowers</th>\n",
       "    </tr>\n",
       "  </thead>\n",
       "  <tbody>\n",
       "    <tr>\n",
       "      <th>0</th>\n",
       "      <td>High Income</td>\n",
       "      <td>438</td>\n",
       "    </tr>\n",
       "    <tr>\n",
       "      <th>1</th>\n",
       "      <td>Middle Income</td>\n",
       "      <td>558</td>\n",
       "    </tr>\n",
       "    <tr>\n",
       "      <th>2</th>\n",
       "      <td>Low Income</td>\n",
       "      <td>4</td>\n",
       "    </tr>\n",
       "  </tbody>\n",
       "</table>\n",
       "</div>"
      ],
      "text/plain": [
       "    income_group  number_of_borrowers\n",
       "0    High Income                  438\n",
       "1  Middle Income                  558\n",
       "2     Low Income                    4"
      ]
     },
     "execution_count": 7,
     "metadata": {},
     "output_type": "execute_result"
    }
   ],
   "source": [
    "## Show how many borrowers are in each income group\n",
    "\n",
    "query = \"\"\"\n",
    "SELECT\n",
    "\tCASE\n",
    "\t\tWHEN Income < 50000 THEN 'Low Income'\n",
    "        WHEN Income BETWEEN 50000 AND 100000 THEN 'Middle Income'\n",
    "        ELSE 'High Income'\n",
    "\tEND AS income_group,\n",
    "COUNT(*) AS number_of_borrowers\n",
    "FROM BorrowerInfo\n",
    "GROUP BY income_group;\n",
    "\"\"\"\n",
    "\n",
    "borrower_group = pd.read_sql(query, con=engine)\n",
    "print(\"Borrowers by income group\")\n",
    "borrower_group\n"
   ]
  },
  {
   "cell_type": "code",
   "execution_count": 8,
   "id": "27fe7a89",
   "metadata": {},
   "outputs": [
    {
     "name": "stdout",
     "output_type": "stream",
     "text": [
      "Default rates by loan length\n"
     ]
    },
    {
     "data": {
      "text/html": [
       "<div>\n",
       "<style scoped>\n",
       "    .dataframe tbody tr th:only-of-type {\n",
       "        vertical-align: middle;\n",
       "    }\n",
       "\n",
       "    .dataframe tbody tr th {\n",
       "        vertical-align: top;\n",
       "    }\n",
       "\n",
       "    .dataframe thead th {\n",
       "        text-align: right;\n",
       "    }\n",
       "</style>\n",
       "<table border=\"1\" class=\"dataframe\">\n",
       "  <thead>\n",
       "    <tr style=\"text-align: right;\">\n",
       "      <th></th>\n",
       "      <th>Loan_Lenght</th>\n",
       "      <th>total_loans</th>\n",
       "      <th>total_defaults</th>\n",
       "      <th>default_rate</th>\n",
       "    </tr>\n",
       "  </thead>\n",
       "  <tbody>\n",
       "    <tr>\n",
       "      <th>0</th>\n",
       "      <td>0</td>\n",
       "      <td>234</td>\n",
       "      <td>17.0</td>\n",
       "      <td>7.26</td>\n",
       "    </tr>\n",
       "    <tr>\n",
       "      <th>1</th>\n",
       "      <td>7</td>\n",
       "      <td>42</td>\n",
       "      <td>1.0</td>\n",
       "      <td>2.38</td>\n",
       "    </tr>\n",
       "    <tr>\n",
       "      <th>2</th>\n",
       "      <td>5</td>\n",
       "      <td>46</td>\n",
       "      <td>3.0</td>\n",
       "      <td>6.52</td>\n",
       "    </tr>\n",
       "    <tr>\n",
       "      <th>3</th>\n",
       "      <td>2</td>\n",
       "      <td>216</td>\n",
       "      <td>19.0</td>\n",
       "      <td>8.80</td>\n",
       "    </tr>\n",
       "    <tr>\n",
       "      <th>4</th>\n",
       "      <td>3</td>\n",
       "      <td>121</td>\n",
       "      <td>11.0</td>\n",
       "      <td>9.09</td>\n",
       "    </tr>\n",
       "    <tr>\n",
       "      <th>5</th>\n",
       "      <td>10</td>\n",
       "      <td>17</td>\n",
       "      <td>0.0</td>\n",
       "      <td>0.00</td>\n",
       "    </tr>\n",
       "    <tr>\n",
       "      <th>6</th>\n",
       "      <td>1</td>\n",
       "      <td>181</td>\n",
       "      <td>6.0</td>\n",
       "      <td>3.31</td>\n",
       "    </tr>\n",
       "    <tr>\n",
       "      <th>7</th>\n",
       "      <td>8</td>\n",
       "      <td>32</td>\n",
       "      <td>2.0</td>\n",
       "      <td>6.25</td>\n",
       "    </tr>\n",
       "    <tr>\n",
       "      <th>8</th>\n",
       "      <td>11</td>\n",
       "      <td>9</td>\n",
       "      <td>0.0</td>\n",
       "      <td>0.00</td>\n",
       "    </tr>\n",
       "    <tr>\n",
       "      <th>9</th>\n",
       "      <td>6</td>\n",
       "      <td>43</td>\n",
       "      <td>2.0</td>\n",
       "      <td>4.65</td>\n",
       "    </tr>\n",
       "    <tr>\n",
       "      <th>10</th>\n",
       "      <td>12</td>\n",
       "      <td>6</td>\n",
       "      <td>0.0</td>\n",
       "      <td>0.00</td>\n",
       "    </tr>\n",
       "    <tr>\n",
       "      <th>11</th>\n",
       "      <td>13</td>\n",
       "      <td>7</td>\n",
       "      <td>1.0</td>\n",
       "      <td>14.29</td>\n",
       "    </tr>\n",
       "    <tr>\n",
       "      <th>12</th>\n",
       "      <td>9</td>\n",
       "      <td>15</td>\n",
       "      <td>1.0</td>\n",
       "      <td>6.67</td>\n",
       "    </tr>\n",
       "    <tr>\n",
       "      <th>13</th>\n",
       "      <td>4</td>\n",
       "      <td>30</td>\n",
       "      <td>0.0</td>\n",
       "      <td>0.00</td>\n",
       "    </tr>\n",
       "    <tr>\n",
       "      <th>14</th>\n",
       "      <td>14</td>\n",
       "      <td>1</td>\n",
       "      <td>0.0</td>\n",
       "      <td>0.00</td>\n",
       "    </tr>\n",
       "  </tbody>\n",
       "</table>\n",
       "</div>"
      ],
      "text/plain": [
       "    Loan_Lenght  total_loans  total_defaults  default_rate\n",
       "0             0          234            17.0          7.26\n",
       "1             7           42             1.0          2.38\n",
       "2             5           46             3.0          6.52\n",
       "3             2          216            19.0          8.80\n",
       "4             3          121            11.0          9.09\n",
       "5            10           17             0.0          0.00\n",
       "6             1          181             6.0          3.31\n",
       "7             8           32             2.0          6.25\n",
       "8            11            9             0.0          0.00\n",
       "9             6           43             2.0          4.65\n",
       "10           12            6             0.0          0.00\n",
       "11           13            7             1.0         14.29\n",
       "12            9           15             1.0          6.67\n",
       "13            4           30             0.0          0.00\n",
       "14           14            1             0.0          0.00"
      ]
     },
     "execution_count": 8,
     "metadata": {},
     "output_type": "execute_result"
    }
   ],
   "source": [
    "# Exercise: Default Rates by Loan Length\n",
    "# Write a query to count the total loans and defaults for each loan length in the LoanDetails table.\n",
    "\n",
    "query = \"\"\"\n",
    "SELECT \n",
    "    Loan_Lenght, \n",
    "    COUNT(*) AS total_loans, \n",
    "    SUM(`Default`) AS total_defaults,\n",
    "    ROUND(SUM(`Default`) * 100.0 / COUNT(*), 2) AS default_rate\n",
    "FROM LoanDetails\n",
    "GROUP BY Loan_Lenght;\n",
    "\"\"\"\n",
    "\n",
    "loan_defaults = pd.read_sql(query, con=engine)\n",
    "print(\"Default rates by loan length\")\n",
    "loan_defaults"
   ]
  },
  {
   "cell_type": "code",
   "execution_count": 10,
   "id": "73211ce9",
   "metadata": {},
   "outputs": [
    {
     "name": "stdout",
     "output_type": "stream",
     "text": [
      "Borrowers by age group\n"
     ]
    },
    {
     "data": {
      "text/html": [
       "<div>\n",
       "<style scoped>\n",
       "    .dataframe tbody tr th:only-of-type {\n",
       "        vertical-align: middle;\n",
       "    }\n",
       "\n",
       "    .dataframe tbody tr th {\n",
       "        vertical-align: top;\n",
       "    }\n",
       "\n",
       "    .dataframe thead th {\n",
       "        text-align: right;\n",
       "    }\n",
       "</style>\n",
       "<table border=\"1\" class=\"dataframe\">\n",
       "  <thead>\n",
       "    <tr style=\"text-align: right;\">\n",
       "      <th></th>\n",
       "      <th>age_group</th>\n",
       "      <th>number_of_borrowers</th>\n",
       "    </tr>\n",
       "  </thead>\n",
       "  <tbody>\n",
       "    <tr>\n",
       "      <th>0</th>\n",
       "      <td>25-40</td>\n",
       "      <td>365</td>\n",
       "    </tr>\n",
       "    <tr>\n",
       "      <th>1</th>\n",
       "      <td>40-60</td>\n",
       "      <td>632</td>\n",
       "    </tr>\n",
       "    <tr>\n",
       "      <th>2</th>\n",
       "      <td>Above 60</td>\n",
       "      <td>2</td>\n",
       "    </tr>\n",
       "    <tr>\n",
       "      <th>3</th>\n",
       "      <td>Under 25</td>\n",
       "      <td>1</td>\n",
       "    </tr>\n",
       "  </tbody>\n",
       "</table>\n",
       "</div>"
      ],
      "text/plain": [
       "  age_group  number_of_borrowers\n",
       "0     25-40                  365\n",
       "1     40-60                  632\n",
       "2  Above 60                    2\n",
       "3  Under 25                    1"
      ]
     },
     "execution_count": 10,
     "metadata": {},
     "output_type": "execute_result"
    }
   ],
   "source": [
    "# Exercise: Counting Age Groups\n",
    "# Write a query to divide borrowers into age groups and count the number of borrowers in each group.\n",
    "\n",
    "query = \"\"\"\n",
    "SELECT\n",
    "\tCASE\n",
    "\t\tWHEN Age < 25 THEN 'Under 25'\n",
    "        WHEN Age BETWEEN 25 AND 40 THEN '25-40'\n",
    "        WHEN Age BETWEEN 40 AND 60 THEN '40-60'\n",
    "        ELSE 'Above 60'\n",
    "\tEND AS age_group,\n",
    "COUNT(*) AS number_of_borrowers\n",
    "FROM BorrowerInfo\n",
    "GROUP BY age_group;\n",
    "\"\"\"\n",
    "\n",
    "income_age_group = pd.read_sql(query, con=engine)\n",
    "print(\"Borrowers by age group\")\n",
    "income_age_group"
   ]
  },
  {
   "cell_type": "code",
   "execution_count": 11,
   "id": "4b7c7163",
   "metadata": {},
   "outputs": [
    {
     "name": "stdout",
     "output_type": "stream",
     "text": [
      "Default Rates by Income Group:\n"
     ]
    },
    {
     "data": {
      "text/html": [
       "<div>\n",
       "<style scoped>\n",
       "    .dataframe tbody tr th:only-of-type {\n",
       "        vertical-align: middle;\n",
       "    }\n",
       "\n",
       "    .dataframe tbody tr th {\n",
       "        vertical-align: top;\n",
       "    }\n",
       "\n",
       "    .dataframe thead th {\n",
       "        text-align: right;\n",
       "    }\n",
       "</style>\n",
       "<table border=\"1\" class=\"dataframe\">\n",
       "  <thead>\n",
       "    <tr style=\"text-align: right;\">\n",
       "      <th></th>\n",
       "      <th>income_group</th>\n",
       "      <th>total_loans</th>\n",
       "      <th>total_defaults</th>\n",
       "      <th>default_rate</th>\n",
       "    </tr>\n",
       "  </thead>\n",
       "  <tbody>\n",
       "    <tr>\n",
       "      <th>0</th>\n",
       "      <td>High Income</td>\n",
       "      <td>438</td>\n",
       "      <td>42.0</td>\n",
       "      <td>9.59</td>\n",
       "    </tr>\n",
       "    <tr>\n",
       "      <th>1</th>\n",
       "      <td>Middle Income</td>\n",
       "      <td>558</td>\n",
       "      <td>21.0</td>\n",
       "      <td>3.76</td>\n",
       "    </tr>\n",
       "    <tr>\n",
       "      <th>2</th>\n",
       "      <td>Low Income</td>\n",
       "      <td>4</td>\n",
       "      <td>0.0</td>\n",
       "      <td>0.00</td>\n",
       "    </tr>\n",
       "  </tbody>\n",
       "</table>\n",
       "</div>"
      ],
      "text/plain": [
       "    income_group  total_loans  total_defaults  default_rate\n",
       "0    High Income          438            42.0          9.59\n",
       "1  Middle Income          558            21.0          3.76\n",
       "2     Low Income            4             0.0          0.00"
      ]
     },
     "execution_count": 11,
     "metadata": {},
     "output_type": "execute_result"
    }
   ],
   "source": [
    "# Investigate if income levels impact default rates.\n",
    "\n",
    "query = \"\"\"\n",
    "SELECT \n",
    "    CASE \n",
    "        WHEN Income < 50000 THEN 'Low Income'\n",
    "        WHEN Income BETWEEN 50000 AND 100000 THEN 'Middle Income'\n",
    "        ELSE 'High Income'\n",
    "    END AS income_group,\n",
    "    COUNT(*) AS total_loans,\n",
    "    SUM(`Default`) AS total_defaults,\n",
    "    ROUND(SUM(`Default`) * 100.0 / COUNT(*), 2) AS default_rate\n",
    "FROM BorrowerInfo b\n",
    "JOIN LoanDetails l ON b.ID = l.ID\n",
    "GROUP BY income_group\n",
    "ORDER BY default_rate DESC;\n",
    "\"\"\"\n",
    "income_default_analysis = pd.read_sql(query, con=engine)\n",
    "print(\"Default Rates by Income Group:\")\n",
    "income_default_analysis"
   ]
  },
  {
   "cell_type": "code",
   "execution_count": 12,
   "id": "712c4e81",
   "metadata": {},
   "outputs": [
    {
     "name": "stdout",
     "output_type": "stream",
     "text": [
      "Top Earners by Loan Default Status\n"
     ]
    },
    {
     "data": {
      "text/html": [
       "<div>\n",
       "<style scoped>\n",
       "    .dataframe tbody tr th:only-of-type {\n",
       "        vertical-align: middle;\n",
       "    }\n",
       "\n",
       "    .dataframe tbody tr th {\n",
       "        vertical-align: top;\n",
       "    }\n",
       "\n",
       "    .dataframe thead th {\n",
       "        text-align: right;\n",
       "    }\n",
       "</style>\n",
       "<table border=\"1\" class=\"dataframe\">\n",
       "  <thead>\n",
       "    <tr style=\"text-align: right;\">\n",
       "      <th></th>\n",
       "      <th>ID</th>\n",
       "      <th>Income</th>\n",
       "      <th>Default</th>\n",
       "      <th>Income_rank</th>\n",
       "    </tr>\n",
       "  </thead>\n",
       "  <tbody>\n",
       "    <tr>\n",
       "      <th>0</th>\n",
       "      <td>808</td>\n",
       "      <td>147798</td>\n",
       "      <td>1</td>\n",
       "      <td>1</td>\n",
       "    </tr>\n",
       "    <tr>\n",
       "      <th>1</th>\n",
       "      <td>812</td>\n",
       "      <td>139702</td>\n",
       "      <td>1</td>\n",
       "      <td>2</td>\n",
       "    </tr>\n",
       "    <tr>\n",
       "      <th>2</th>\n",
       "      <td>117</td>\n",
       "      <td>137669</td>\n",
       "      <td>1</td>\n",
       "      <td>3</td>\n",
       "    </tr>\n",
       "  </tbody>\n",
       "</table>\n",
       "</div>"
      ],
      "text/plain": [
       "    ID  Income  Default  Income_rank\n",
       "0  808  147798        1            1\n",
       "1  812  139702        1            2\n",
       "2  117  137669        1            3"
      ]
     },
     "execution_count": 12,
     "metadata": {},
     "output_type": "execute_result"
    }
   ],
   "source": [
    "# Find the Top Earners by Loan Default Status\n",
    "# Write a query to identify the top 3 borrowers (by Income) who have defaulted.\n",
    "\n",
    "query = \"\"\"\n",
    "WITH CTE AS \n",
    "(SELECT b.ID, b.Income, d.`Default`,\n",
    "RANK() OVER (ORDER BY Income DESC) AS Income_rank\n",
    "FROM BorrowerInfo b\n",
    "JOIN LoanDetails d\n",
    "ON b.ID = d.ID\n",
    "WHERE `Default` = 1)\n",
    "SELECT ID, Income, `Default`, Income_rank\n",
    "FROM CTE\n",
    "WHERE Income_rank <= 3;\n",
    "\"\"\"\n",
    "\n",
    "top_income_defaulters = pd.read_sql(query, con=engine)\n",
    "print(\"Top Earners by Loan Default Status\")\n",
    "top_income_defaulters"
   ]
  },
  {
   "cell_type": "code",
   "execution_count": null,
   "id": "205eb612",
   "metadata": {},
   "outputs": [],
   "source": []
  },
  {
   "cell_type": "code",
   "execution_count": null,
   "id": "1e2eb22e",
   "metadata": {},
   "outputs": [],
   "source": []
  },
  {
   "cell_type": "markdown",
   "id": "79ad2e66",
   "metadata": {},
   "source": [
    "**Data Visualization**\n",
    "\n",
    "Plots and visualizations help simplify complex data, making trends and patterns easier to understand. They provide insights that guide decision-making by highlighting important information in a visually accessible format. Below, we show a few simple plots"
   ]
  },
  {
   "cell_type": "markdown",
   "id": "16a453dd",
   "metadata": {},
   "source": [
    "In this section, we retrieve data from a MySQL database and load it into a pandas DataFrame. Converting SQL tables to DataFrames enables easier manipulation, analysis, and visualization using pandas and other Python libraries, offering greater flexibility and convenience compared to working directly with SQL results. The following section demonstrates how to retrieve, process, and work with data in this way."
   ]
  },
  {
   "cell_type": "code",
   "execution_count": 13,
   "id": "1113f851",
   "metadata": {},
   "outputs": [
    {
     "name": "stdout",
     "output_type": "stream",
     "text": [
      "BorrowerInfo Data:\n"
     ]
    },
    {
     "data": {
      "text/html": [
       "<div>\n",
       "<style scoped>\n",
       "    .dataframe tbody tr th:only-of-type {\n",
       "        vertical-align: middle;\n",
       "    }\n",
       "\n",
       "    .dataframe tbody tr th {\n",
       "        vertical-align: top;\n",
       "    }\n",
       "\n",
       "    .dataframe thead th {\n",
       "        text-align: right;\n",
       "    }\n",
       "</style>\n",
       "<table border=\"1\" class=\"dataframe\">\n",
       "  <thead>\n",
       "    <tr style=\"text-align: right;\">\n",
       "      <th></th>\n",
       "      <th>ID</th>\n",
       "      <th>Gender</th>\n",
       "      <th>Age</th>\n",
       "      <th>Degree</th>\n",
       "      <th>Income</th>\n",
       "      <th>Credit_score</th>\n",
       "    </tr>\n",
       "  </thead>\n",
       "  <tbody>\n",
       "    <tr>\n",
       "      <th>0</th>\n",
       "      <td>1</td>\n",
       "      <td>Female</td>\n",
       "      <td>30</td>\n",
       "      <td>HS</td>\n",
       "      <td>114885</td>\n",
       "      <td>641</td>\n",
       "    </tr>\n",
       "    <tr>\n",
       "      <th>1</th>\n",
       "      <td>2</td>\n",
       "      <td>Female</td>\n",
       "      <td>43</td>\n",
       "      <td>HS</td>\n",
       "      <td>95770</td>\n",
       "      <td>534</td>\n",
       "    </tr>\n",
       "    <tr>\n",
       "      <th>2</th>\n",
       "      <td>3</td>\n",
       "      <td>Male</td>\n",
       "      <td>39</td>\n",
       "      <td>HS</td>\n",
       "      <td>94220</td>\n",
       "      <td>558</td>\n",
       "    </tr>\n",
       "    <tr>\n",
       "      <th>3</th>\n",
       "      <td>4</td>\n",
       "      <td>Male</td>\n",
       "      <td>39</td>\n",
       "      <td>College</td>\n",
       "      <td>58946</td>\n",
       "      <td>622</td>\n",
       "    </tr>\n",
       "    <tr>\n",
       "      <th>4</th>\n",
       "      <td>5</td>\n",
       "      <td>Female</td>\n",
       "      <td>42</td>\n",
       "      <td>HS</td>\n",
       "      <td>79754</td>\n",
       "      <td>702</td>\n",
       "    </tr>\n",
       "  </tbody>\n",
       "</table>\n",
       "</div>"
      ],
      "text/plain": [
       "   ID  Gender  Age    Degree  Income  Credit_score\n",
       "0   1  Female   30  HS        114885           641\n",
       "1   2  Female   43  HS         95770           534\n",
       "2   3  Male     39  HS         94220           558\n",
       "3   4  Male     39  College    58946           622\n",
       "4   5  Female   42  HS         79754           702"
      ]
     },
     "execution_count": 13,
     "metadata": {},
     "output_type": "execute_result"
    }
   ],
   "source": [
    "# Loading Data from BorrowerInfo Table into borrower_info DataFrame\n",
    "borrower_info_query = \"SELECT * FROM BorrowerInfo\"\n",
    "borrower_info = pd.read_sql(borrower_info_query, engine)\n",
    "\n",
    "# Display data for verification\n",
    "print(\"BorrowerInfo Data:\")\n",
    "borrower_info.head()\n"
   ]
  },
  {
   "cell_type": "code",
   "execution_count": 14,
   "id": "51329d14",
   "metadata": {},
   "outputs": [
    {
     "name": "stdout",
     "output_type": "stream",
     "text": [
      "\n",
      "LoanDetails Data:\n"
     ]
    },
    {
     "data": {
      "text/html": [
       "<div>\n",
       "<style scoped>\n",
       "    .dataframe tbody tr th:only-of-type {\n",
       "        vertical-align: middle;\n",
       "    }\n",
       "\n",
       "    .dataframe tbody tr th {\n",
       "        vertical-align: top;\n",
       "    }\n",
       "\n",
       "    .dataframe thead th {\n",
       "        text-align: right;\n",
       "    }\n",
       "</style>\n",
       "<table border=\"1\" class=\"dataframe\">\n",
       "  <thead>\n",
       "    <tr style=\"text-align: right;\">\n",
       "      <th></th>\n",
       "      <th>ID</th>\n",
       "      <th>Default</th>\n",
       "      <th>Loan_Type</th>\n",
       "      <th>Loan_lenght</th>\n",
       "      <th>Signers</th>\n",
       "    </tr>\n",
       "  </thead>\n",
       "  <tbody>\n",
       "    <tr>\n",
       "      <th>0</th>\n",
       "      <td>1</td>\n",
       "      <td>0</td>\n",
       "      <td>Car</td>\n",
       "      <td>0</td>\n",
       "      <td>2</td>\n",
       "    </tr>\n",
       "    <tr>\n",
       "      <th>1</th>\n",
       "      <td>2</td>\n",
       "      <td>0</td>\n",
       "      <td>Home</td>\n",
       "      <td>7</td>\n",
       "      <td>2</td>\n",
       "    </tr>\n",
       "    <tr>\n",
       "      <th>2</th>\n",
       "      <td>3</td>\n",
       "      <td>0</td>\n",
       "      <td>Home</td>\n",
       "      <td>5</td>\n",
       "      <td>2</td>\n",
       "    </tr>\n",
       "    <tr>\n",
       "      <th>3</th>\n",
       "      <td>4</td>\n",
       "      <td>0</td>\n",
       "      <td>Home</td>\n",
       "      <td>7</td>\n",
       "      <td>2</td>\n",
       "    </tr>\n",
       "    <tr>\n",
       "      <th>4</th>\n",
       "      <td>5</td>\n",
       "      <td>0</td>\n",
       "      <td>Car</td>\n",
       "      <td>2</td>\n",
       "      <td>1</td>\n",
       "    </tr>\n",
       "  </tbody>\n",
       "</table>\n",
       "</div>"
      ],
      "text/plain": [
       "   ID  Default Loan_Type  Loan_lenght  Signers\n",
       "0   1        0      Car             0        2\n",
       "1   2        0      Home            7        2\n",
       "2   3        0      Home            5        2\n",
       "3   4        0      Home            7        2\n",
       "4   5        0      Car             2        1"
      ]
     },
     "execution_count": 14,
     "metadata": {},
     "output_type": "execute_result"
    }
   ],
   "source": [
    "# Loading Data from LoanDetails Table into loan_details DataFrame\n",
    "# Query LoanDetails table\n",
    "loan_details_query = \"SELECT * FROM LoanDetails\"\n",
    "loan_details = pd.read_sql(loan_details_query, engine)\n",
    "\n",
    "# Display data for verification\n",
    "print(\"\\nLoanDetails Data:\")\n",
    "loan_details.head()"
   ]
  },
  {
   "cell_type": "code",
   "execution_count": null,
   "id": "6ab1fbd7",
   "metadata": {},
   "outputs": [],
   "source": []
  },
  {
   "cell_type": "code",
   "execution_count": 15,
   "id": "32c564be",
   "metadata": {},
   "outputs": [
    {
     "data": {
      "text/plain": [
       "Car     689\n",
       "Home    311\n",
       "Name: Loan_Type, dtype: int64"
      ]
     },
     "execution_count": 15,
     "metadata": {},
     "output_type": "execute_result"
    }
   ],
   "source": [
    "# Bar Chart: Number of Loans by Loan Type\n",
    "\n",
    "# Count loans by Loan_Type\n",
    "loan_type_counts = loan_details['Loan_Type'].value_counts()\n",
    "# .value_counts() counts the occurrence of each unique value in a column and \n",
    "# returns a Series with the counts for each value.\n",
    "loan_type_counts"
   ]
  },
  {
   "cell_type": "code",
   "execution_count": 16,
   "id": "274c40ae",
   "metadata": {},
   "outputs": [
    {
     "data": {
      "image/png": "[encoded data removed]",
      "text/plain": [
       "<Figure size 640x480 with 1 Axes>"
      ]
     },
     "metadata": {},
     "output_type": "display_data"
    }
   ],
   "source": [
    "# Plotting \n",
    "import matplotlib.pyplot as plt\n",
    "\n",
    "plt.bar(loan_type_counts.index, loan_type_counts.values, color = ['skyblue', 'orange'])\n",
    "plt.title(\"Number of Loans by Loan Type\")\n",
    "plt.xlabel(\"Loan Type\")\n",
    "plt.ylabel(\"Number of loans\")\n",
    "plt.show()"
   ]
  },
  {
   "cell_type": "markdown",
   "id": "0800e494",
   "metadata": {},
   "source": [
    "The bar chart reveals that Car loans are significantly more common (689 loans) compared to Home loans (311 loans).\n",
    "\n",
    "This insight could indicate a higher demand for car financing, or perhaps the bank focuses more on this loan type.\n"
   ]
  },
  {
   "cell_type": "code",
   "execution_count": 17,
   "id": "85487154",
   "metadata": {},
   "outputs": [
    {
     "data": {
      "image/png": "[encoded data removed]",
      "text/plain": [
       "<Figure size 640x480 with 1 Axes>"
      ]
     },
     "metadata": {},
     "output_type": "display_data"
    }
   ],
   "source": [
    "# This code creates and displays a histogram to visualize the distribution \n",
    "# of borrower incomes from the borrower_info DataFrame.\n",
    "\n",
    "plt.hist(borrower_info['Income'], bins=10, color='blue', alpha=0.6)\n",
    "plt.title(\"Income Distribution\")\n",
    "plt.xlabel(\"Income\")\n",
    "plt.ylabel(\"Number of Borrowers\")\n",
    "plt.show()\n"
   ]
  },
  {
   "cell_type": "markdown",
   "id": "bb92cbf5",
   "metadata": {},
   "source": [
    "This histogram shows that borrower incomes are concentrated around the middle-income range, specifically near 100,000. This highlights an opportunity to tailor loan products for this demographic, as they represent the bulk of the bank’s customer base.\n",
    "\n",
    "The tails of the distribution (below 60,000 and above 120,000) suggest that fewer borrowers belong to lower or higher-income brackets."
   ]
  },
  {
   "cell_type": "code",
   "execution_count": 18,
   "id": "6ab2df1c",
   "metadata": {},
   "outputs": [
    {
     "data": {
      "image/png": "[encoded data removed]",
      "text/plain": [
       "<Figure size 640x480 with 1 Axes>"
      ]
     },
     "metadata": {},
     "output_type": "display_data"
    }
   ],
   "source": [
    "# Borrower Demographics\n",
    "# Bar Plot: Distribution of Borrowers by Degree\n",
    "# What to plot: Count of borrowers for each degree type.\n",
    "import seaborn as sns\n",
    "sns.countplot(x='Degree', data=borrower_info, palette=\"coolwarm\")\n",
    "plt.title(\"Distribution of Borrowers by Degree\")\n",
    "plt.xlabel(\"Degree\")\n",
    "plt.ylabel(\"Number of Borrowers\")\n",
    "plt.show()"
   ]
  },
  {
   "cell_type": "markdown",
   "id": "7a108185",
   "metadata": {},
   "source": [
    "The majority of borrowers fall under the HS (High School) category, with fewer borrowers holding college or advanced degrees.\n",
    "\n",
    "\n",
    "This distribution suggests targeting high-school graduates could be critical for business expansion."
   ]
  },
  {
   "cell_type": "code",
   "execution_count": 20,
   "id": "54c047a4",
   "metadata": {},
   "outputs": [
    {
     "data": {
      "image/png": "[encoded data removed]",
      "text/plain": [
       "<Figure size 600x600 with 1 Axes>"
      ]
     },
     "metadata": {},
     "output_type": "display_data"
    }
   ],
   "source": [
    "#  Pie Chart: Default Rates by Loan Length\n",
    "\n",
    "# Aggregate data to calculate default rates by loan length\n",
    "default_rates = loan_details.groupby('Loan_lenght')['Default'].mean()\n",
    "\n",
    "# Plotting\n",
    "plt.figure(figsize=(6,6))\n",
    "plt.pie(default_rates, labels=default_rates.index, autopct='%1.1f%%', startangle=140, colors=plt.cm.tab20.colors)\n",
    "plt.title(\"Default Rates by Loan Length\")\n",
    "plt.show()"
   ]
  },
  {
   "cell_type": "markdown",
   "id": "1be52a23",
   "metadata": {},
   "source": [
    "Loan Length 13 is Concerning:\n",
    "\n",
    "Borrowers with this loan term have the highest rate of default (20.6%), so further investigation is necessary:\n",
    "\n",
    "Are these loans poorly structured?\n",
    "\n",
    "Do they target higher-risk borrowers?\n",
    "\n",
    "Loan lengths like 4, 10, 11, 12, and 14 can be considered safe, with no defaults observed."
   ]
  },
  {
   "cell_type": "code",
   "execution_count": null,
   "id": "27c6d0b0",
   "metadata": {},
   "outputs": [],
   "source": []
  }
 ],
 "metadata": {
  "kernelspec": {
   "display_name": "Python 3 (ipykernel)",
   "language": "python",
   "name": "python3"
  },
  "language_info": {
   "codemirror_mode": {
    "name": "ipython",
    "version": 3
   },
   "file_extension": ".py",
   "mimetype": "text/x-python",
   "name": "python",
   "nbconvert_exporter": "python",
   "pygments_lexer": "ipython3",
   "version": "3.10.9"
  }
 },
 "nbformat": 4,
 "nbformat_minor": 5
}
